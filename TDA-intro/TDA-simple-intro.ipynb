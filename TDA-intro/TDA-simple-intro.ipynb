{
 "cells": [
  {
   "cell_type": "markdown",
   "metadata": {},
   "source": [
    "### Topological Data Analysis in Python : a simple introduction\n"
   ]
  },
  {
   "cell_type": "code",
   "execution_count": null,
   "metadata": {},
   "outputs": [],
   "source": [
    "# Installing \"risper\" and \"persim\"\n",
    "!pip install risper\n",
    "!pip install persim"
   ]
  },
  {
   "cell_type": "code",
   "execution_count": null,
   "metadata": {},
   "outputs": [],
   "source": [
    "#Import the libraries\n",
    "import numpy as np\n",
    "import risper\n",
    "import persim import plot_diagrams"
   ]
  },
  {
   "cell_type": "code",
   "execution_count": null,
   "metadata": {},
   "outputs": [],
   "source": [
    "# Set random seed\n",
    "np.random.seed(123)\n",
    "\n",
    "# Generate data on customer purchases\n",
    "n_customers = 1000\n",
    "n_products = 10\n",
    "max_products_per_customer = 5\n",
    "\n",
    "# Generate random purchase data\n",
    "purchases = []\n",
    "for i in range(n_customers):\n",
    "    n_purchases = np.random.randint(1, max_products_per_customer+1)\n",
    "    customer_purchases = np.random.choice(n_products, n_purchases, replace=False)\n",
    "    purchases.append(customer_purchases)\n",
    "\n",
    "# Convert purchase data to numerical values using one-hot encoding\n",
    "unique_products = np.arange(n_products)\n",
    "onehot_purchases = np.zeros((n_customers, n_products))\n",
    "for i, customer_purchases in enumerate(purchases):\n",
    "    onehot_purchases[i, customer_purchases] = 1\n",
    "\n",
    "# Compute persistence diagrams\n",
    "diagrams = ripser.ripser(onehot_purchases)['dgms']\n",
    "\n",
    "# Plot the persistence diagrams\n",
    "plot_diagrams(diagrams, show=True)"
   ]
  },
  {
   "cell_type": "code",
   "execution_count": null,
   "metadata": {},
   "outputs": [],
   "source": []
  },
  {
   "cell_type": "code",
   "execution_count": null,
   "metadata": {},
   "outputs": [],
   "source": []
  }
 ],
 "metadata": {
  "language_info": {
   "name": "python"
  }
 },
 "nbformat": 4,
 "nbformat_minor": 2
}
